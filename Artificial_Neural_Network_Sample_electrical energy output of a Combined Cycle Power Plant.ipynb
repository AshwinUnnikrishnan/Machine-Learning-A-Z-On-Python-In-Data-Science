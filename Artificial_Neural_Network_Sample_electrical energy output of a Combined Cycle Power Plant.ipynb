{
  "nbformat": 4,
  "nbformat_minor": 0,
  "metadata": {
    "colab": {
      "provenance": [],
      "include_colab_link": true
    },
    "kernelspec": {
      "name": "python3",
      "display_name": "Python 3"
    }
  },
  "cells": [
    {
      "cell_type": "markdown",
      "metadata": {
        "id": "view-in-github",
        "colab_type": "text"
      },
      "source": [
        "<a href=\"https://colab.research.google.com/github/AshwinUnnikrishnan/Machine-Learning-A-Z-On-Python-In-Data-Science/blob/main/Artificial_Neural_Network_Sample_electrical%20energy%20output%20of%20a%20Combined%20Cycle%20Power%20Plant.ipynb\" target=\"_parent\"><img src=\"https://colab.research.google.com/assets/colab-badge.svg\" alt=\"Open In Colab\"/></a>"
      ]
    },
    {
      "cell_type": "markdown",
      "metadata": {
        "id": "3cbb7fRy-eyr"
      },
      "source": [
        "# Artificial Neural Network"
      ]
    },
    {
      "cell_type": "markdown",
      "metadata": {
        "id": "8sNDnxE2-pwE"
      },
      "source": [
        "### Importing the libraries"
      ]
    },
    {
      "cell_type": "code",
      "metadata": {
        "id": "lxChR1Rk-umf"
      },
      "source": [
        "import numpy as np\n",
        "import pandas as pd\n",
        "import tensorflow as tf"
      ],
      "execution_count": 1,
      "outputs": []
    },
    {
      "cell_type": "code",
      "metadata": {
        "id": "uBTqR3nacj0e",
        "colab": {
          "base_uri": "https://localhost:8080/",
          "height": 35
        },
        "outputId": "b2f53100-2bf3-45a2-ccb4-78dfcac72dd7"
      },
      "source": [
        "tf.__version__"
      ],
      "execution_count": 2,
      "outputs": [
        {
          "output_type": "execute_result",
          "data": {
            "text/plain": [
              "'2.12.0'"
            ],
            "application/vnd.google.colaboratory.intrinsic+json": {
              "type": "string"
            }
          },
          "metadata": {},
          "execution_count": 2
        }
      ]
    },
    {
      "cell_type": "markdown",
      "metadata": {
        "id": "AG3FQEch-yuA"
      },
      "source": [
        "## Part 1 - Data Preprocessing"
      ]
    },
    {
      "cell_type": "markdown",
      "metadata": {
        "id": "-4zq8Mza_D9O"
      },
      "source": [
        "### Importing the dataset"
      ]
    },
    {
      "cell_type": "code",
      "metadata": {
        "id": "B9CV13Co_HHM"
      },
      "source": [
        "dataset = pd.read_excel('Folds5x2_pp.xlsx')\n",
        "X = dataset.iloc[:, :-1].values\n",
        "y = dataset.iloc[:, -1].values"
      ],
      "execution_count": 3,
      "outputs": []
    },
    {
      "cell_type": "markdown",
      "metadata": {
        "id": "VC6omXel_Up0"
      },
      "source": [
        "### Splitting the dataset into the Training set and Test set"
      ]
    },
    {
      "cell_type": "code",
      "metadata": {
        "id": "L5edeb2r_agx"
      },
      "source": [
        "from sklearn.model_selection import train_test_split\n",
        "X_train, X_test, y_train, y_test = train_test_split(X, y, test_size = 0.2, random_state = 0)"
      ],
      "execution_count": 4,
      "outputs": []
    },
    {
      "cell_type": "markdown",
      "metadata": {
        "id": "_mSLlAT9_eyI"
      },
      "source": [
        "## Part 2 - Building the ANN"
      ]
    },
    {
      "cell_type": "markdown",
      "metadata": {
        "id": "CsBULd_f_wLY"
      },
      "source": [
        "### Initializing the ANN"
      ]
    },
    {
      "cell_type": "code",
      "metadata": {
        "id": "J6Hd97Ls__Nz"
      },
      "source": [
        "ann = tf.keras.models.Sequential()"
      ],
      "execution_count": 5,
      "outputs": []
    },
    {
      "cell_type": "markdown",
      "metadata": {
        "id": "iitAFJS_ABUn"
      },
      "source": [
        "### Adding the input layer and the first hidden layer"
      ]
    },
    {
      "cell_type": "code",
      "metadata": {
        "id": "ksO_Vv40AHix"
      },
      "source": [
        "ann.add(tf.keras.layers.Dense(units=6, activation='relu'))"
      ],
      "execution_count": 6,
      "outputs": []
    },
    {
      "cell_type": "markdown",
      "metadata": {
        "id": "-lb4kK_wAKbs"
      },
      "source": [
        "### Adding the second hidden layer"
      ]
    },
    {
      "cell_type": "code",
      "metadata": {
        "id": "c2357OqEAQOQ"
      },
      "source": [
        "ann.add(tf.keras.layers.Dense(units=6, activation='relu'))"
      ],
      "execution_count": 7,
      "outputs": []
    },
    {
      "cell_type": "markdown",
      "metadata": {
        "id": "jwMOmKb3AdBY"
      },
      "source": [
        "### Adding the output layer"
      ]
    },
    {
      "cell_type": "code",
      "metadata": {
        "id": "YFATpzsUAkLL"
      },
      "source": [
        "ann.add(tf.keras.layers.Dense(units=1))"
      ],
      "execution_count": 8,
      "outputs": []
    },
    {
      "cell_type": "markdown",
      "metadata": {
        "id": "fq7e4fF6A1yy"
      },
      "source": [
        "## Part 3 - Training the ANN"
      ]
    },
    {
      "cell_type": "markdown",
      "metadata": {
        "id": "qDeylAs2An25"
      },
      "source": [
        "### Compiling the ANN"
      ]
    },
    {
      "cell_type": "code",
      "metadata": {
        "id": "pesgbWlCAtB4"
      },
      "source": [
        "ann.compile(optimizer = 'adam', loss = 'mean_squared_error')"
      ],
      "execution_count": 9,
      "outputs": []
    },
    {
      "cell_type": "markdown",
      "metadata": {
        "id": "YjVuiybYOo7r"
      },
      "source": [
        "### Training the ANN model on the Training set"
      ]
    },
    {
      "cell_type": "code",
      "metadata": {
        "id": "c_vV-tiiA5zn",
        "colab": {
          "base_uri": "https://localhost:8080/"
        },
        "outputId": "18782de2-f665-4cb0-8edc-20e0bf15e32c"
      },
      "source": [
        "ann.fit(X_train, y_train, batch_size = 32, epochs = 100)"
      ],
      "execution_count": 10,
      "outputs": [
        {
          "output_type": "stream",
          "name": "stdout",
          "text": [
            "Epoch 1/100\n",
            "240/240 [==============================] - 2s 2ms/step - loss: 26346.0430\n",
            "Epoch 2/100\n",
            "240/240 [==============================] - 0s 2ms/step - loss: 289.8299\n",
            "Epoch 3/100\n",
            "240/240 [==============================] - 0s 2ms/step - loss: 280.2683\n",
            "Epoch 4/100\n",
            "240/240 [==============================] - 0s 2ms/step - loss: 273.1017\n",
            "Epoch 5/100\n",
            "240/240 [==============================] - 0s 2ms/step - loss: 264.6298\n",
            "Epoch 6/100\n",
            "240/240 [==============================] - 0s 2ms/step - loss: 254.5987\n",
            "Epoch 7/100\n",
            "240/240 [==============================] - 0s 2ms/step - loss: 243.4971\n",
            "Epoch 8/100\n",
            "240/240 [==============================] - 0s 2ms/step - loss: 231.6459\n",
            "Epoch 9/100\n",
            "240/240 [==============================] - 0s 2ms/step - loss: 218.5618\n",
            "Epoch 10/100\n",
            "240/240 [==============================] - 0s 2ms/step - loss: 204.4644\n",
            "Epoch 11/100\n",
            "240/240 [==============================] - 0s 2ms/step - loss: 190.1539\n",
            "Epoch 12/100\n",
            "240/240 [==============================] - 0s 2ms/step - loss: 175.1096\n",
            "Epoch 13/100\n",
            "240/240 [==============================] - 0s 2ms/step - loss: 160.0752\n",
            "Epoch 14/100\n",
            "240/240 [==============================] - 0s 2ms/step - loss: 145.0671\n",
            "Epoch 15/100\n",
            "240/240 [==============================] - 0s 2ms/step - loss: 130.0536\n",
            "Epoch 16/100\n",
            "240/240 [==============================] - 0s 2ms/step - loss: 115.9489\n",
            "Epoch 17/100\n",
            "240/240 [==============================] - 0s 2ms/step - loss: 102.5050\n",
            "Epoch 18/100\n",
            "240/240 [==============================] - 0s 2ms/step - loss: 90.3401\n",
            "Epoch 19/100\n",
            "240/240 [==============================] - 0s 2ms/step - loss: 79.5893\n",
            "Epoch 20/100\n",
            "240/240 [==============================] - 0s 2ms/step - loss: 70.0847\n",
            "Epoch 21/100\n",
            "240/240 [==============================] - 0s 2ms/step - loss: 62.3853\n",
            "Epoch 22/100\n",
            "240/240 [==============================] - 0s 2ms/step - loss: 56.1603\n",
            "Epoch 23/100\n",
            "240/240 [==============================] - 0s 2ms/step - loss: 51.2197\n",
            "Epoch 24/100\n",
            "240/240 [==============================] - 0s 2ms/step - loss: 47.7027\n",
            "Epoch 25/100\n",
            "240/240 [==============================] - 1s 2ms/step - loss: 44.9789\n",
            "Epoch 26/100\n",
            "240/240 [==============================] - 1s 2ms/step - loss: 43.2117\n",
            "Epoch 27/100\n",
            "240/240 [==============================] - 1s 2ms/step - loss: 41.7082\n",
            "Epoch 28/100\n",
            "240/240 [==============================] - 1s 2ms/step - loss: 41.0262\n",
            "Epoch 29/100\n",
            "240/240 [==============================] - 1s 2ms/step - loss: 40.0139\n",
            "Epoch 30/100\n",
            "240/240 [==============================] - 0s 2ms/step - loss: 39.2883\n",
            "Epoch 31/100\n",
            "240/240 [==============================] - 0s 2ms/step - loss: 38.9509\n",
            "Epoch 32/100\n",
            "240/240 [==============================] - 0s 2ms/step - loss: 37.9337\n",
            "Epoch 33/100\n",
            "240/240 [==============================] - 0s 2ms/step - loss: 37.7636\n",
            "Epoch 34/100\n",
            "240/240 [==============================] - 0s 2ms/step - loss: 36.9930\n",
            "Epoch 35/100\n",
            "240/240 [==============================] - 0s 2ms/step - loss: 37.6286\n",
            "Epoch 36/100\n",
            "240/240 [==============================] - 0s 2ms/step - loss: 35.9557\n",
            "Epoch 37/100\n",
            "240/240 [==============================] - 0s 2ms/step - loss: 35.5609\n",
            "Epoch 38/100\n",
            "240/240 [==============================] - 0s 2ms/step - loss: 35.0272\n",
            "Epoch 39/100\n",
            "240/240 [==============================] - 0s 2ms/step - loss: 34.4159\n",
            "Epoch 40/100\n",
            "240/240 [==============================] - 0s 2ms/step - loss: 34.5294\n",
            "Epoch 41/100\n",
            "240/240 [==============================] - 0s 2ms/step - loss: 33.8031\n",
            "Epoch 42/100\n",
            "240/240 [==============================] - 0s 2ms/step - loss: 32.9803\n",
            "Epoch 43/100\n",
            "240/240 [==============================] - 0s 2ms/step - loss: 32.5266\n",
            "Epoch 44/100\n",
            "240/240 [==============================] - 0s 2ms/step - loss: 32.5198\n",
            "Epoch 45/100\n",
            "240/240 [==============================] - 0s 2ms/step - loss: 32.0047\n",
            "Epoch 46/100\n",
            "240/240 [==============================] - 0s 2ms/step - loss: 31.8675\n",
            "Epoch 47/100\n",
            "240/240 [==============================] - 0s 2ms/step - loss: 31.0259\n",
            "Epoch 48/100\n",
            "240/240 [==============================] - 0s 2ms/step - loss: 31.0558\n",
            "Epoch 49/100\n",
            "240/240 [==============================] - 0s 2ms/step - loss: 31.0175\n",
            "Epoch 50/100\n",
            "240/240 [==============================] - 0s 2ms/step - loss: 30.3862\n",
            "Epoch 51/100\n",
            "240/240 [==============================] - 0s 2ms/step - loss: 30.6020\n",
            "Epoch 52/100\n",
            "240/240 [==============================] - 0s 2ms/step - loss: 29.8808\n",
            "Epoch 53/100\n",
            "240/240 [==============================] - 0s 2ms/step - loss: 29.9309\n",
            "Epoch 54/100\n",
            "240/240 [==============================] - 0s 2ms/step - loss: 29.6627\n",
            "Epoch 55/100\n",
            "240/240 [==============================] - 1s 2ms/step - loss: 29.5486\n",
            "Epoch 56/100\n",
            "240/240 [==============================] - 1s 2ms/step - loss: 29.2487\n",
            "Epoch 57/100\n",
            "240/240 [==============================] - 1s 2ms/step - loss: 29.0257\n",
            "Epoch 58/100\n",
            "240/240 [==============================] - 1s 2ms/step - loss: 28.8550\n",
            "Epoch 59/100\n",
            "240/240 [==============================] - 1s 2ms/step - loss: 28.4287\n",
            "Epoch 60/100\n",
            "240/240 [==============================] - 0s 2ms/step - loss: 29.1519\n",
            "Epoch 61/100\n",
            "240/240 [==============================] - 0s 2ms/step - loss: 28.3810\n",
            "Epoch 62/100\n",
            "240/240 [==============================] - 0s 2ms/step - loss: 28.1461\n",
            "Epoch 63/100\n",
            "240/240 [==============================] - 0s 2ms/step - loss: 28.1824\n",
            "Epoch 64/100\n",
            "240/240 [==============================] - 0s 2ms/step - loss: 28.0463\n",
            "Epoch 65/100\n",
            "240/240 [==============================] - 0s 2ms/step - loss: 27.6523\n",
            "Epoch 66/100\n",
            "240/240 [==============================] - 0s 2ms/step - loss: 27.5639\n",
            "Epoch 67/100\n",
            "240/240 [==============================] - 0s 2ms/step - loss: 27.8515\n",
            "Epoch 68/100\n",
            "240/240 [==============================] - 0s 2ms/step - loss: 27.5458\n",
            "Epoch 69/100\n",
            "240/240 [==============================] - 0s 2ms/step - loss: 27.8031\n",
            "Epoch 70/100\n",
            "240/240 [==============================] - 0s 2ms/step - loss: 27.3618\n",
            "Epoch 71/100\n",
            "240/240 [==============================] - 0s 2ms/step - loss: 27.3275\n",
            "Epoch 72/100\n",
            "240/240 [==============================] - 0s 2ms/step - loss: 27.7530\n",
            "Epoch 73/100\n",
            "240/240 [==============================] - 0s 2ms/step - loss: 27.3265\n",
            "Epoch 74/100\n",
            "240/240 [==============================] - 0s 2ms/step - loss: 27.1421\n",
            "Epoch 75/100\n",
            "240/240 [==============================] - 0s 2ms/step - loss: 27.6066\n",
            "Epoch 76/100\n",
            "240/240 [==============================] - 0s 2ms/step - loss: 26.6820\n",
            "Epoch 77/100\n",
            "240/240 [==============================] - 0s 2ms/step - loss: 27.6456\n",
            "Epoch 78/100\n",
            "240/240 [==============================] - 0s 2ms/step - loss: 27.1201\n",
            "Epoch 79/100\n",
            "240/240 [==============================] - 0s 2ms/step - loss: 27.0325\n",
            "Epoch 80/100\n",
            "240/240 [==============================] - 0s 2ms/step - loss: 26.8621\n",
            "Epoch 81/100\n",
            "240/240 [==============================] - 0s 2ms/step - loss: 27.0106\n",
            "Epoch 82/100\n",
            "240/240 [==============================] - 0s 2ms/step - loss: 26.8568\n",
            "Epoch 83/100\n",
            "240/240 [==============================] - 0s 2ms/step - loss: 26.8359\n",
            "Epoch 84/100\n",
            "240/240 [==============================] - 0s 2ms/step - loss: 26.9879\n",
            "Epoch 85/100\n",
            "240/240 [==============================] - 1s 2ms/step - loss: 26.6692\n",
            "Epoch 86/100\n",
            "240/240 [==============================] - 1s 2ms/step - loss: 27.2124\n",
            "Epoch 87/100\n",
            "240/240 [==============================] - 1s 2ms/step - loss: 27.2824\n",
            "Epoch 88/100\n",
            "240/240 [==============================] - 1s 2ms/step - loss: 26.6981\n",
            "Epoch 89/100\n",
            "240/240 [==============================] - 1s 2ms/step - loss: 26.4685\n",
            "Epoch 90/100\n",
            "240/240 [==============================] - 1s 2ms/step - loss: 26.5670\n",
            "Epoch 91/100\n",
            "240/240 [==============================] - 0s 2ms/step - loss: 26.5496\n",
            "Epoch 92/100\n",
            "240/240 [==============================] - 0s 2ms/step - loss: 26.6459\n",
            "Epoch 93/100\n",
            "240/240 [==============================] - 0s 2ms/step - loss: 26.8184\n",
            "Epoch 94/100\n",
            "240/240 [==============================] - 0s 2ms/step - loss: 26.6122\n",
            "Epoch 95/100\n",
            "240/240 [==============================] - 0s 2ms/step - loss: 26.3589\n",
            "Epoch 96/100\n",
            "240/240 [==============================] - 0s 2ms/step - loss: 26.4340\n",
            "Epoch 97/100\n",
            "240/240 [==============================] - 0s 2ms/step - loss: 26.4433\n",
            "Epoch 98/100\n",
            "240/240 [==============================] - 0s 2ms/step - loss: 26.7821\n",
            "Epoch 99/100\n",
            "240/240 [==============================] - 0s 2ms/step - loss: 26.4265\n",
            "Epoch 100/100\n",
            "240/240 [==============================] - 0s 2ms/step - loss: 26.7780\n"
          ]
        },
        {
          "output_type": "execute_result",
          "data": {
            "text/plain": [
              "<keras.callbacks.History at 0x7f849bffa200>"
            ]
          },
          "metadata": {},
          "execution_count": 10
        }
      ]
    },
    {
      "cell_type": "markdown",
      "metadata": {
        "id": "0H0zKKNEBLD5"
      },
      "source": [
        "### Predicting the results of the Test set"
      ]
    },
    {
      "cell_type": "code",
      "metadata": {
        "id": "IA0yApEmBG1X",
        "colab": {
          "base_uri": "https://localhost:8080/"
        },
        "outputId": "4c7b3978-5083-4077-889b-c05b44591acc"
      },
      "source": [
        "y_pred = ann.predict(X_test)\n",
        "np.set_printoptions(precision=2)\n",
        "print(np.concatenate((y_pred.reshape(len(y_pred),1), y_test.reshape(len(y_test),1)),1))"
      ],
      "execution_count": 11,
      "outputs": [
        {
          "output_type": "stream",
          "name": "stdout",
          "text": [
            "60/60 [==============================] - 1s 5ms/step\n",
            "[[429.58 431.23]\n",
            " [461.07 460.01]\n",
            " [464.79 461.14]\n",
            " ...\n",
            " [471.58 473.26]\n",
            " [439.21 438.  ]\n",
            " [458.08 463.28]]\n"
          ]
        }
      ]
    }
  ]
}